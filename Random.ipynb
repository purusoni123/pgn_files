{
 "cells": [
  {
   "cell_type": "code",
   "execution_count": 2,
   "metadata": {},
   "outputs": [],
   "source": [
    "from make_datafiles import FileTokenizer\n",
    "import run_summarization as run"
   ]
  },
  {
   "cell_type": "code",
   "execution_count": 3,
   "metadata": {},
   "outputs": [
    {
     "name": "stdout",
     "output_type": "stream",
     "text": [
      "Preparing to tokenize stories to output\\tokenized_stories_dir...\n",
      "Making list of files to tokenize...\n",
      "Tokenizing 2 files in stories and saving in output\\tokenized_stories_dir...\n",
      "Stanford CoreNLP Tokenizer has finished.\n",
      "Successfully finished tokenizing stories to output\\tokenized_stories_dir.\n",
      "\n",
      "Writing story 0 of 2; 0.00 percent done\n",
      "output\\tokenized_stories_dir\\test1.txt\n",
      "output\\tokenized_stories_dir\\testFile01.txt\n",
      "Finished writing file output\\finished_files\\test.bin\n",
      "\n",
      "Deleting files from output\\tokenized_stories_dir\n",
      "Splitting test data into chunks...\n",
      "Saved chunked data in output\\finished_files\\chunked\n"
     ]
    }
   ],
   "source": [
    "datafiles = FileTokenizer('stories', 'output')\n",
    "datafiles.make_binfiles()"
   ]
  },
  {
   "cell_type": "code",
   "execution_count": 4,
   "metadata": {},
   "outputs": [
    {
     "name": "stdout",
     "output_type": "stream",
     "text": [
      "Entering ..................\n",
      "INFO:tensorflow:Starting seq2seq_attention in decode mode...\n",
      "Warning: incorrectly formatted line in vocabulary file: 0800 555 111 356\n",
      "\n",
      "\n",
      "Warning: incorrectly formatted line in vocabulary file: 1800 333 000 139\n",
      "\n",
      "\n",
      "Warning: incorrectly formatted line in vocabulary file: 2 1/2 124\n",
      "\n",
      "\n",
      "Warning: incorrectly formatted line in vocabulary file: 3 1/2 86\n",
      "\n",
      "\n",
      "max_size of vocab was specified as 50000; we now have 50000 words. Stopping reading.\n",
      "Finished constructing vocabulary of 50000 total words. Last word added: perisic\n",
      "INFO:tensorflow:Building graph...\n",
      "INFO:tensorflow:Adding attention_decoder timestep 0 of 1\n",
      "INFO:tensorflow:Time to build graph: 0 seconds\n",
      "INFO:tensorflow:Loading checkpoint ../pretrained_model\\train\\model.ckpt-238410\n",
      "INFO:tensorflow:Restoring parameters from ../pretrained_model\\train\\model.ckpt-238410\n",
      "INFO:tensorflow:\u001b[1m\n",
      "\n",
      " Article: \n",
      "\n",
      "\u001b[0m\u001b[92mAbstractive text summarization is the task of generating a headline or a short summary consisting of a few sentences that captures the salient ideas of an article or a passage .We use the adjective abstractive to denote a summary that is not a mere selection of a few existing passages or sentences extracted from the source , but a compressed paraphrasing of the main contents of the document , potentially using vocabulary unseen in the source document . \u001b[0m\u001b[1m\n",
      "\n",
      " Human Summary: \n",
      "\n",
      "\u001b[0m!!____!!\u001b[1m\n",
      "\n",
      " Generated Summary: \n",
      "\n",
      "\u001b[0m\u001b[94mabstractive text summarization is the task of generating a headline or a short summary consisting of a few existing passages or sentences extracted from the source . a compressed paraphrasing of the main contents of the document , potentially using vocabulary unseen in the source document . \u001b[0m\n",
      "-------------------------------------------------------------------------------\n",
      "-------------------------------------------------------------------------------\n",
      "\n",
      "\n",
      "INFO:tensorflow:Summary appended to text file.\n",
      "INFO:tensorflow:Wrote visualization data to ../pretrained_model\\decode\\2018-07-31_17-45-14\\attn_vis_data_1.json\n",
      "INFO:tensorflow:\u001b[1m\n",
      "\n",
      " Article: \n",
      "\n",
      "\u001b[0m\u001b[92mMoscow , russia  russian space officials say the crew of the soyuz space ship is resting after a rough ride back to earth .A south korean bioengineer was one of three people on board the soyuz capsule .The craft carrying south korea 's first astronaut landed in northern kazakhstan on saturday , 260 miles 418 kilometers off its mark , they said .Mission control spokesman valery lyndin said the condition of the crew south korean bioengineer yi so-yeon , american astronaut peggy whitson and russian flight engineer yuri malenchenko was satisfactory , though the three had been subjected to severe g-forces during the re-entry .\n",
      "Search helicopters took 25 minutes to find the capsule and determine that the crew was unharmed .Officials said the craft followed a very steep trajectory that subjects the crew to gravitational forces of up to 10 times those on earth .Interfax reported that the spacecraft 's landing was rough .This is not the first time a spacecraft veered from its planned trajectory during landing .In october , the soyuz capsule landed 70 kilometers from the planned area because of a damaged control cable .\n",
      "The capsule was carrying two russian cosmonauts and the first malaysian astronaut .E-mail to a friend . \u001b[0m\u001b[1m\n",
      "\n",
      " Human Summary: \n",
      "\n",
      "\u001b[0msoyuz capsule lands hundreds of kilometers !!__off-target__!! . capsule was carrying south korea 's first astronaut . landing is second time soyuz capsule has gone awry .\u001b[1m\n",
      "\n",
      " Generated Summary: \n",
      "\n",
      "\u001b[0m\u001b[94ma south korean bioengineer was one of three people on board the soyuz capsule . the craft carrying south korea 's first astronaut landed in northern kazakhstan on saturday . search helicopters took 25 minutes to find the capsule and determine that the crew was unharmed . \u001b[0m\n",
      "-------------------------------------------------------------------------------\n",
      "-------------------------------------------------------------------------------\n",
      "\n",
      "\n",
      "INFO:tensorflow:Summary appended to text file.\n",
      "INFO:tensorflow:Wrote visualization data to ../pretrained_model\\decode\\2018-07-31_17-45-14\\attn_vis_data_2.json\n"
     ]
    }
   ],
   "source": [
    "run.runfiles('output/finished_files/test.bin','vocab','../','decode', datafiles)"
   ]
  }
 ],
 "metadata": {
  "kernelspec": {
   "display_name": "projectname",
   "language": "python",
   "name": "projectname"
  },
  "language_info": {
   "codemirror_mode": {
    "name": "ipython",
    "version": 3
   },
   "file_extension": ".py",
   "mimetype": "text/x-python",
   "name": "python",
   "nbconvert_exporter": "python",
   "pygments_lexer": "ipython3",
   "version": "3.6.0"
  }
 },
 "nbformat": 4,
 "nbformat_minor": 2
}
